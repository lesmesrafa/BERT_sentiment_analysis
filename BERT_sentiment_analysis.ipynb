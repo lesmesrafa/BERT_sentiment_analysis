{
 "cells": [
  {
   "cell_type": "markdown",
   "metadata": {},
   "source": [
    "## SENTIMENT ANALYSIS USING BERT"
   ]
  },
  {
   "cell_type": "markdown",
   "metadata": {},
   "source": [
    "### 1. Install and Import Dependencies"
   ]
  },
  {
   "cell_type": "code",
   "execution_count": 1,
   "metadata": {},
   "outputs": [
    {
     "name": "stdout",
     "output_type": "stream",
     "text": [
      "Collecting tensorflow==2.6\n",
      "  Using cached tensorflow-2.6.0-cp38-cp38-manylinux2010_x86_64.whl (458.4 MB)\n",
      "Requirement already satisfied: six~=1.15.0 in /home/rafael/anaconda3/envs/hhhh/lib/python3.8/site-packages (from tensorflow==2.6) (1.15.0)\n",
      "Collecting opt-einsum~=3.3.0\n",
      "  Using cached opt_einsum-3.3.0-py3-none-any.whl (65 kB)\n",
      "Collecting astunparse~=1.6.3\n",
      "  Using cached astunparse-1.6.3-py2.py3-none-any.whl (12 kB)\n",
      "Requirement already satisfied: wheel~=0.35 in /home/rafael/anaconda3/envs/hhhh/lib/python3.8/site-packages (from tensorflow==2.6) (0.35.1)\n",
      "Collecting keras-preprocessing~=1.1.2\n",
      "  Using cached Keras_Preprocessing-1.1.2-py2.py3-none-any.whl (42 kB)\n",
      "Collecting absl-py~=0.10\n",
      "  Downloading absl_py-0.15.0-py3-none-any.whl (132 kB)\n",
      "\u001b[K     |████████████████████████████████| 132 kB 8.6 MB/s eta 0:00:01\n",
      "\u001b[?25hCollecting h5py~=3.1.0\n",
      "  Using cached h5py-3.1.0-cp38-cp38-manylinux1_x86_64.whl (4.4 MB)\n",
      "Processing /home/rafael/.cache/pip/wheels/5f/fd/9e/b6cf5890494cb8ef0b5eaff72e5d55a70fb56316007d6dfe73/wrapt-1.12.1-cp38-cp38-linux_x86_64.whl\n",
      "Collecting gast==0.4.0\n",
      "  Using cached gast-0.4.0-py3-none-any.whl (9.8 kB)\n",
      "Processing /home/rafael/.cache/pip/wheels/a0/16/9c/5473df82468f958445479c59e784896fa24f4a5fc024b0f501/termcolor-1.1.0-py3-none-any.whl\n",
      "Collecting google-pasta~=0.2\n",
      "  Using cached google_pasta-0.2.0-py3-none-any.whl (57 kB)\n",
      "Collecting protobuf>=3.9.2\n",
      "  Downloading protobuf-3.19.4-cp38-cp38-manylinux_2_17_x86_64.manylinux2014_x86_64.whl (1.1 MB)\n",
      "\u001b[K     |████████████████████████████████| 1.1 MB 45.3 MB/s eta 0:00:01\n",
      "\u001b[?25hCollecting keras~=2.6\n",
      "  Using cached keras-2.7.0-py2.py3-none-any.whl (1.3 MB)\n",
      "Collecting flatbuffers~=1.12.0\n",
      "  Using cached flatbuffers-1.12-py2.py3-none-any.whl (15 kB)\n",
      "Processing /home/rafael/.cache/pip/wheels/f1/60/77/22b9b5887bd47801796a856f47650d9789c74dc3161a26d608/clang-5.0-py3-none-any.whl\n",
      "Collecting tensorboard~=2.6\n",
      "  Using cached tensorboard-2.8.0-py3-none-any.whl (5.8 MB)\n",
      "Collecting tensorflow-estimator~=2.6\n",
      "  Using cached tensorflow_estimator-2.7.0-py2.py3-none-any.whl (463 kB)\n",
      "Requirement already satisfied: typing-extensions~=3.7.4 in /home/rafael/anaconda3/envs/hhhh/lib/python3.8/site-packages (from tensorflow==2.6) (3.7.4.3)\n",
      "Collecting grpcio<2.0,>=1.37.0\n",
      "  Using cached grpcio-1.43.0-cp38-cp38-manylinux_2_17_x86_64.manylinux2014_x86_64.whl (4.1 MB)\n",
      "Requirement already satisfied: numpy~=1.19.2 in /home/rafael/anaconda3/envs/hhhh/lib/python3.8/site-packages (from tensorflow==2.6) (1.19.2)\n",
      "Collecting markdown>=2.6.8\n",
      "  Using cached Markdown-3.3.6-py3-none-any.whl (97 kB)\n",
      "Collecting google-auth<3,>=1.6.3\n",
      "  Downloading google_auth-2.5.0-py2.py3-none-any.whl (157 kB)\n",
      "\u001b[K     |████████████████████████████████| 157 kB 143.1 MB/s eta 0:00:01\n",
      "\u001b[?25hCollecting google-auth-oauthlib<0.5,>=0.4.1\n",
      "  Downloading google_auth_oauthlib-0.4.6-py2.py3-none-any.whl (18 kB)\n",
      "Collecting tensorboard-data-server<0.7.0,>=0.6.0\n",
      "  Using cached tensorboard_data_server-0.6.1-py3-none-manylinux2010_x86_64.whl (4.9 MB)\n",
      "Requirement already satisfied: requests<3,>=2.21.0 in /home/rafael/anaconda3/envs/hhhh/lib/python3.8/site-packages (from tensorboard~=2.6->tensorflow==2.6) (2.24.0)\n",
      "Collecting tensorboard-plugin-wit>=1.6.0\n",
      "  Downloading tensorboard_plugin_wit-1.8.1-py3-none-any.whl (781 kB)\n",
      "\u001b[K     |████████████████████████████████| 781 kB 121.1 MB/s eta 0:00:01\n",
      "\u001b[?25hRequirement already satisfied: setuptools>=41.0.0 in /home/rafael/anaconda3/envs/hhhh/lib/python3.8/site-packages (from tensorboard~=2.6->tensorflow==2.6) (50.3.1.post20201107)\n",
      "Requirement already satisfied: werkzeug>=0.11.15 in /home/rafael/anaconda3/envs/hhhh/lib/python3.8/site-packages (from tensorboard~=2.6->tensorflow==2.6) (1.0.1)\n",
      "Collecting importlib-metadata>=4.4; python_version < \"3.10\"\n",
      "  Downloading importlib_metadata-4.10.1-py3-none-any.whl (17 kB)\n",
      "Collecting rsa<5,>=3.1.4; python_version >= \"3.6\"\n",
      "  Downloading rsa-4.8-py3-none-any.whl (39 kB)\n",
      "Collecting cachetools<6.0,>=2.0.0\n",
      "  Downloading cachetools-5.0.0-py3-none-any.whl (9.1 kB)\n",
      "Collecting pyasn1-modules>=0.2.1\n",
      "  Using cached pyasn1_modules-0.2.8-py2.py3-none-any.whl (155 kB)\n",
      "Collecting requests-oauthlib>=0.7.0\n",
      "  Downloading requests_oauthlib-1.3.1-py2.py3-none-any.whl (23 kB)\n",
      "Requirement already satisfied: certifi>=2017.4.17 in /home/rafael/anaconda3/envs/hhhh/lib/python3.8/site-packages (from requests<3,>=2.21.0->tensorboard~=2.6->tensorflow==2.6) (2020.6.20)\n",
      "Requirement already satisfied: chardet<4,>=3.0.2 in /home/rafael/anaconda3/envs/hhhh/lib/python3.8/site-packages (from requests<3,>=2.21.0->tensorboard~=2.6->tensorflow==2.6) (3.0.4)\n",
      "Requirement already satisfied: idna<3,>=2.5 in /home/rafael/anaconda3/envs/hhhh/lib/python3.8/site-packages (from requests<3,>=2.21.0->tensorboard~=2.6->tensorflow==2.6) (2.10)\n",
      "Requirement already satisfied: urllib3!=1.25.0,!=1.25.1,<1.26,>=1.21.1 in /home/rafael/anaconda3/envs/hhhh/lib/python3.8/site-packages (from requests<3,>=2.21.0->tensorboard~=2.6->tensorflow==2.6) (1.25.11)\n",
      "Requirement already satisfied: zipp>=0.5 in /home/rafael/anaconda3/envs/hhhh/lib/python3.8/site-packages (from importlib-metadata>=4.4; python_version < \"3.10\"->markdown>=2.6.8->tensorboard~=2.6->tensorflow==2.6) (3.4.0)\n",
      "Collecting pyasn1>=0.1.3\n",
      "  Using cached pyasn1-0.4.8-py2.py3-none-any.whl (77 kB)\n",
      "Collecting oauthlib>=3.0.0\n",
      "  Downloading oauthlib-3.2.0-py3-none-any.whl (151 kB)\n",
      "\u001b[K     |████████████████████████████████| 151 kB 30.8 MB/s eta 0:00:01\n",
      "\u001b[?25hInstalling collected packages: opt-einsum, astunparse, keras-preprocessing, absl-py, h5py, wrapt, gast, termcolor, google-pasta, protobuf, keras, flatbuffers, clang, importlib-metadata, markdown, pyasn1, rsa, cachetools, pyasn1-modules, google-auth, oauthlib, requests-oauthlib, google-auth-oauthlib, tensorboard-data-server, tensorboard-plugin-wit, grpcio, tensorboard, tensorflow-estimator, tensorflow\n",
      "  Attempting uninstall: h5py\n",
      "    Found existing installation: h5py 2.10.0\n",
      "    Uninstalling h5py-2.10.0:\n",
      "      Successfully uninstalled h5py-2.10.0\n",
      "  Attempting uninstall: wrapt\n",
      "    Found existing installation: wrapt 1.11.2\n",
      "    Uninstalling wrapt-1.11.2:\n",
      "      Successfully uninstalled wrapt-1.11.2\n",
      "  Attempting uninstall: importlib-metadata\n",
      "    Found existing installation: importlib-metadata 2.0.0\n",
      "    Uninstalling importlib-metadata-2.0.0:\n",
      "      Successfully uninstalled importlib-metadata-2.0.0\n",
      "Successfully installed absl-py-0.15.0 astunparse-1.6.3 cachetools-5.0.0 clang-5.0 flatbuffers-1.12 gast-0.4.0 google-auth-2.5.0 google-auth-oauthlib-0.4.6 google-pasta-0.2.0 grpcio-1.43.0 h5py-3.1.0 importlib-metadata-4.10.1 keras-2.7.0 keras-preprocessing-1.1.2 markdown-3.3.6 oauthlib-3.2.0 opt-einsum-3.3.0 protobuf-3.19.4 pyasn1-0.4.8 pyasn1-modules-0.2.8 requests-oauthlib-1.3.1 rsa-4.8 tensorboard-2.8.0 tensorboard-data-server-0.6.1 tensorboard-plugin-wit-1.8.1 tensorflow-2.6.0 tensorflow-estimator-2.7.0 termcolor-1.1.0 wrapt-1.12.1\n",
      "Collecting tensorflow-text==2.3\n",
      "  Using cached tensorflow_text-2.3.0-cp38-cp38-manylinux1_x86_64.whl (2.6 MB)\n",
      "Collecting tensorflow<2.4,>=2.3.0\n",
      "  Using cached tensorflow-2.3.4-cp38-cp38-manylinux2010_x86_64.whl (320.7 MB)\n",
      "Requirement already satisfied: grpcio>=1.8.6 in /home/rafael/anaconda3/envs/hhhh/lib/python3.8/site-packages (from tensorflow<2.4,>=2.3.0->tensorflow-text==2.3) (1.43.0)\n",
      "Collecting gast==0.3.3\n",
      "  Using cached gast-0.3.3-py2.py3-none-any.whl (9.7 kB)\n",
      "Requirement already satisfied: opt-einsum>=2.3.2 in /home/rafael/anaconda3/envs/hhhh/lib/python3.8/site-packages (from tensorflow<2.4,>=2.3.0->tensorflow-text==2.3) (3.3.0)\n",
      "Requirement already satisfied: wrapt>=1.11.1 in /home/rafael/anaconda3/envs/hhhh/lib/python3.8/site-packages (from tensorflow<2.4,>=2.3.0->tensorflow-text==2.3) (1.12.1)\n",
      "Requirement already satisfied: tensorboard<3,>=2.3.0 in /home/rafael/anaconda3/envs/hhhh/lib/python3.8/site-packages (from tensorflow<2.4,>=2.3.0->tensorflow-text==2.3) (2.8.0)\n",
      "Requirement already satisfied: keras-preprocessing<1.2,>=1.1.1 in /home/rafael/anaconda3/envs/hhhh/lib/python3.8/site-packages (from tensorflow<2.4,>=2.3.0->tensorflow-text==2.3) (1.1.2)\n",
      "Collecting numpy<1.19.0,>=1.16.0\n",
      "  Using cached numpy-1.18.5-cp38-cp38-manylinux1_x86_64.whl (20.6 MB)\n",
      "Requirement already satisfied: absl-py>=0.7.0 in /home/rafael/anaconda3/envs/hhhh/lib/python3.8/site-packages (from tensorflow<2.4,>=2.3.0->tensorflow-text==2.3) (0.15.0)\n"
     ]
    },
    {
     "name": "stdout",
     "output_type": "stream",
     "text": [
      "Collecting tensorflow-estimator<2.4.0,>=2.3.0\n",
      "  Using cached tensorflow_estimator-2.3.0-py2.py3-none-any.whl (459 kB)\n",
      "Requirement already satisfied: wheel>=0.26 in /home/rafael/anaconda3/envs/hhhh/lib/python3.8/site-packages (from tensorflow<2.4,>=2.3.0->tensorflow-text==2.3) (0.35.1)\n",
      "Requirement already satisfied: astunparse==1.6.3 in /home/rafael/anaconda3/envs/hhhh/lib/python3.8/site-packages (from tensorflow<2.4,>=2.3.0->tensorflow-text==2.3) (1.6.3)\n",
      "Requirement already satisfied: google-pasta>=0.1.8 in /home/rafael/anaconda3/envs/hhhh/lib/python3.8/site-packages (from tensorflow<2.4,>=2.3.0->tensorflow-text==2.3) (0.2.0)\n",
      "Requirement already satisfied: protobuf>=3.9.2 in /home/rafael/anaconda3/envs/hhhh/lib/python3.8/site-packages (from tensorflow<2.4,>=2.3.0->tensorflow-text==2.3) (3.19.4)\n",
      "Requirement already satisfied: termcolor>=1.1.0 in /home/rafael/anaconda3/envs/hhhh/lib/python3.8/site-packages (from tensorflow<2.4,>=2.3.0->tensorflow-text==2.3) (1.1.0)\n",
      "Requirement already satisfied: six>=1.12.0 in /home/rafael/anaconda3/envs/hhhh/lib/python3.8/site-packages (from tensorflow<2.4,>=2.3.0->tensorflow-text==2.3) (1.15.0)\n",
      "Collecting h5py<2.11.0,>=2.10.0\n",
      "  Using cached h5py-2.10.0-cp38-cp38-manylinux1_x86_64.whl (2.9 MB)\n",
      "Requirement already satisfied: tensorboard-plugin-wit>=1.6.0 in /home/rafael/anaconda3/envs/hhhh/lib/python3.8/site-packages (from tensorboard<3,>=2.3.0->tensorflow<2.4,>=2.3.0->tensorflow-text==2.3) (1.8.1)\n",
      "Requirement already satisfied: markdown>=2.6.8 in /home/rafael/anaconda3/envs/hhhh/lib/python3.8/site-packages (from tensorboard<3,>=2.3.0->tensorflow<2.4,>=2.3.0->tensorflow-text==2.3) (3.3.6)\n",
      "Requirement already satisfied: google-auth-oauthlib<0.5,>=0.4.1 in /home/rafael/anaconda3/envs/hhhh/lib/python3.8/site-packages (from tensorboard<3,>=2.3.0->tensorflow<2.4,>=2.3.0->tensorflow-text==2.3) (0.4.6)\n",
      "Requirement already satisfied: setuptools>=41.0.0 in /home/rafael/anaconda3/envs/hhhh/lib/python3.8/site-packages (from tensorboard<3,>=2.3.0->tensorflow<2.4,>=2.3.0->tensorflow-text==2.3) (50.3.1.post20201107)\n",
      "Requirement already satisfied: werkzeug>=0.11.15 in /home/rafael/anaconda3/envs/hhhh/lib/python3.8/site-packages (from tensorboard<3,>=2.3.0->tensorflow<2.4,>=2.3.0->tensorflow-text==2.3) (1.0.1)\n",
      "Requirement already satisfied: tensorboard-data-server<0.7.0,>=0.6.0 in /home/rafael/anaconda3/envs/hhhh/lib/python3.8/site-packages (from tensorboard<3,>=2.3.0->tensorflow<2.4,>=2.3.0->tensorflow-text==2.3) (0.6.1)\n",
      "Requirement already satisfied: google-auth<3,>=1.6.3 in /home/rafael/anaconda3/envs/hhhh/lib/python3.8/site-packages (from tensorboard<3,>=2.3.0->tensorflow<2.4,>=2.3.0->tensorflow-text==2.3) (2.5.0)\n",
      "Requirement already satisfied: requests<3,>=2.21.0 in /home/rafael/anaconda3/envs/hhhh/lib/python3.8/site-packages (from tensorboard<3,>=2.3.0->tensorflow<2.4,>=2.3.0->tensorflow-text==2.3) (2.24.0)\n",
      "Requirement already satisfied: importlib-metadata>=4.4; python_version < \"3.10\" in /home/rafael/anaconda3/envs/hhhh/lib/python3.8/site-packages (from markdown>=2.6.8->tensorboard<3,>=2.3.0->tensorflow<2.4,>=2.3.0->tensorflow-text==2.3) (4.10.1)\n",
      "Requirement already satisfied: requests-oauthlib>=0.7.0 in /home/rafael/anaconda3/envs/hhhh/lib/python3.8/site-packages (from google-auth-oauthlib<0.5,>=0.4.1->tensorboard<3,>=2.3.0->tensorflow<2.4,>=2.3.0->tensorflow-text==2.3) (1.3.1)\n",
      "Requirement already satisfied: cachetools<6.0,>=2.0.0 in /home/rafael/anaconda3/envs/hhhh/lib/python3.8/site-packages (from google-auth<3,>=1.6.3->tensorboard<3,>=2.3.0->tensorflow<2.4,>=2.3.0->tensorflow-text==2.3) (5.0.0)\n",
      "Requirement already satisfied: pyasn1-modules>=0.2.1 in /home/rafael/anaconda3/envs/hhhh/lib/python3.8/site-packages (from google-auth<3,>=1.6.3->tensorboard<3,>=2.3.0->tensorflow<2.4,>=2.3.0->tensorflow-text==2.3) (0.2.8)\n",
      "Requirement already satisfied: rsa<5,>=3.1.4; python_version >= \"3.6\" in /home/rafael/anaconda3/envs/hhhh/lib/python3.8/site-packages (from google-auth<3,>=1.6.3->tensorboard<3,>=2.3.0->tensorflow<2.4,>=2.3.0->tensorflow-text==2.3) (4.8)\n",
      "Requirement already satisfied: certifi>=2017.4.17 in /home/rafael/anaconda3/envs/hhhh/lib/python3.8/site-packages (from requests<3,>=2.21.0->tensorboard<3,>=2.3.0->tensorflow<2.4,>=2.3.0->tensorflow-text==2.3) (2020.6.20)\n",
      "Requirement already satisfied: chardet<4,>=3.0.2 in /home/rafael/anaconda3/envs/hhhh/lib/python3.8/site-packages (from requests<3,>=2.21.0->tensorboard<3,>=2.3.0->tensorflow<2.4,>=2.3.0->tensorflow-text==2.3) (3.0.4)\n",
      "Requirement already satisfied: idna<3,>=2.5 in /home/rafael/anaconda3/envs/hhhh/lib/python3.8/site-packages (from requests<3,>=2.21.0->tensorboard<3,>=2.3.0->tensorflow<2.4,>=2.3.0->tensorflow-text==2.3) (2.10)\n",
      "Requirement already satisfied: urllib3!=1.25.0,!=1.25.1,<1.26,>=1.21.1 in /home/rafael/anaconda3/envs/hhhh/lib/python3.8/site-packages (from requests<3,>=2.21.0->tensorboard<3,>=2.3.0->tensorflow<2.4,>=2.3.0->tensorflow-text==2.3) (1.25.11)\n",
      "Requirement already satisfied: zipp>=0.5 in /home/rafael/anaconda3/envs/hhhh/lib/python3.8/site-packages (from importlib-metadata>=4.4; python_version < \"3.10\"->markdown>=2.6.8->tensorboard<3,>=2.3.0->tensorflow<2.4,>=2.3.0->tensorflow-text==2.3) (3.4.0)\n",
      "Requirement already satisfied: oauthlib>=3.0.0 in /home/rafael/anaconda3/envs/hhhh/lib/python3.8/site-packages (from requests-oauthlib>=0.7.0->google-auth-oauthlib<0.5,>=0.4.1->tensorboard<3,>=2.3.0->tensorflow<2.4,>=2.3.0->tensorflow-text==2.3) (3.2.0)\n",
      "Requirement already satisfied: pyasn1<0.5.0,>=0.4.6 in /home/rafael/anaconda3/envs/hhhh/lib/python3.8/site-packages (from pyasn1-modules>=0.2.1->google-auth<3,>=1.6.3->tensorboard<3,>=2.3.0->tensorflow<2.4,>=2.3.0->tensorflow-text==2.3) (0.4.8)\n",
      "Installing collected packages: gast, numpy, tensorflow-estimator, h5py, tensorflow, tensorflow-text\n",
      "  Attempting uninstall: gast\n",
      "    Found existing installation: gast 0.4.0\n",
      "    Uninstalling gast-0.4.0:\n",
      "      Successfully uninstalled gast-0.4.0\n",
      "  Attempting uninstall: numpy\n",
      "    Found existing installation: numpy 1.19.2\n",
      "    Uninstalling numpy-1.19.2:\n",
      "      Successfully uninstalled numpy-1.19.2\n",
      "  Attempting uninstall: tensorflow-estimator\n",
      "    Found existing installation: tensorflow-estimator 2.7.0\n",
      "    Uninstalling tensorflow-estimator-2.7.0:\n",
      "      Successfully uninstalled tensorflow-estimator-2.7.0\n",
      "  Attempting uninstall: h5py\n",
      "    Found existing installation: h5py 3.1.0\n",
      "    Uninstalling h5py-3.1.0:\n",
      "      Successfully uninstalled h5py-3.1.0\n",
      "  Attempting uninstall: tensorflow\n",
      "    Found existing installation: tensorflow 2.6.0\n",
      "    Uninstalling tensorflow-2.6.0:\n",
      "      Successfully uninstalled tensorflow-2.6.0\n",
      "Successfully installed gast-0.3.3 h5py-2.10.0 numpy-1.18.5 tensorflow-2.3.4 tensorflow-estimator-2.3.0 tensorflow-text-2.3.0\n",
      "\u001b[31mERROR: Could not find a version that satisfies the requirement tensorflow<2.0,>=1.15 (from versions: 2.2.0rc1, 2.2.0rc2, 2.2.0rc3, 2.2.0rc4, 2.2.0, 2.2.1, 2.2.2, 2.2.3, 2.3.0rc0, 2.3.0rc1, 2.3.0rc2, 2.3.0, 2.3.1, 2.3.2, 2.3.3, 2.3.4, 2.4.0rc0, 2.4.0rc1, 2.4.0rc2, 2.4.0rc3, 2.4.0rc4, 2.4.0, 2.4.1, 2.4.2, 2.4.3, 2.4.4, 2.5.0rc0, 2.5.0rc1, 2.5.0rc2, 2.5.0rc3, 2.5.0, 2.5.1, 2.5.2, 2.6.0rc0, 2.6.0rc1, 2.6.0rc2, 2.6.0, 2.6.1, 2.6.2, 2.7.0rc0, 2.7.0rc1, 2.7.0, 2.8.0rc0, 2.8.0rc1)\u001b[0m\n",
      "\u001b[31mERROR: No matching distribution found for tensorflow<2.0,>=1.15\u001b[0m\n",
      "Requirement already up-to-date: tensorflow-hub in /home/rafael/anaconda3/envs/hhhh/lib/python3.8/site-packages (0.12.0)\n",
      "Requirement already satisfied, skipping upgrade: protobuf>=3.8.0 in /home/rafael/anaconda3/envs/hhhh/lib/python3.8/site-packages (from tensorflow-hub) (3.19.4)\n",
      "Requirement already satisfied, skipping upgrade: numpy>=1.12.0 in /home/rafael/anaconda3/envs/hhhh/lib/python3.8/site-packages (from tensorflow-hub) (1.18.5)\n",
      "Looking in links: https://download.pytorch.org/whl/torch_stable.html\n",
      "Collecting torch==1.8.1+cu111\n",
      "  Using cached https://download.pytorch.org/whl/cu111/torch-1.8.1%2Bcu111-cp38-cp38-linux_x86_64.whl (1982.2 MB)\n",
      "Collecting torchvision==0.9.1+cu111\n",
      "  Using cached https://download.pytorch.org/whl/cu111/torchvision-0.9.1%2Bcu111-cp38-cp38-linux_x86_64.whl (17.6 MB)\n",
      "Collecting torchaudio===0.8.1\n",
      "  Using cached torchaudio-0.8.1-cp38-cp38-manylinux1_x86_64.whl (1.9 MB)\n"
     ]
    },
    {
     "name": "stdout",
     "output_type": "stream",
     "text": [
      "Requirement already satisfied: numpy in /home/rafael/anaconda3/envs/hhhh/lib/python3.8/site-packages (from torch==1.8.1+cu111) (1.18.5)\n",
      "Requirement already satisfied: typing-extensions in /home/rafael/anaconda3/envs/hhhh/lib/python3.8/site-packages (from torch==1.8.1+cu111) (3.7.4.3)\n",
      "Requirement already satisfied: pillow>=4.1.1 in /home/rafael/anaconda3/envs/hhhh/lib/python3.8/site-packages (from torchvision==0.9.1+cu111) (8.0.1)\n",
      "Installing collected packages: torch, torchvision, torchaudio\n",
      "Successfully installed torch-1.8.1+cu111 torchaudio-0.8.1 torchvision-0.9.1+cu111\n",
      "Collecting transformers\n",
      "  Using cached transformers-4.16.1-py3-none-any.whl (3.5 MB)\n",
      "Requirement already satisfied: tqdm>=4.27 in /home/rafael/anaconda3/envs/hhhh/lib/python3.8/site-packages (from transformers) (4.50.2)\n",
      "Requirement already satisfied: regex!=2019.12.17 in /home/rafael/anaconda3/envs/hhhh/lib/python3.8/site-packages (from transformers) (2020.10.15)\n",
      "Requirement already satisfied: filelock in /home/rafael/anaconda3/envs/hhhh/lib/python3.8/site-packages (from transformers) (3.0.12)\n",
      "Collecting sacremoses\n",
      "  Using cached sacremoses-0.0.47-py2.py3-none-any.whl (895 kB)\n",
      "Requirement already satisfied: pyyaml>=5.1 in /home/rafael/anaconda3/envs/hhhh/lib/python3.8/site-packages (from transformers) (5.3.1)\n",
      "Requirement already satisfied: requests in /home/rafael/anaconda3/envs/hhhh/lib/python3.8/site-packages (from transformers) (2.24.0)\n",
      "Collecting huggingface-hub<1.0,>=0.1.0\n",
      "  Using cached huggingface_hub-0.4.0-py3-none-any.whl (67 kB)\n",
      "Requirement already satisfied: packaging>=20.0 in /home/rafael/anaconda3/envs/hhhh/lib/python3.8/site-packages (from transformers) (20.4)\n",
      "Collecting tokenizers!=0.11.3,>=0.10.1\n",
      "  Using cached tokenizers-0.11.4-cp38-cp38-manylinux_2_12_x86_64.manylinux2010_x86_64.whl (6.8 MB)\n",
      "Requirement already satisfied: numpy>=1.17 in /home/rafael/anaconda3/envs/hhhh/lib/python3.8/site-packages (from transformers) (1.18.5)\n",
      "Requirement already satisfied: joblib in /home/rafael/anaconda3/envs/hhhh/lib/python3.8/site-packages (from sacremoses->transformers) (0.17.0)\n",
      "Requirement already satisfied: click in /home/rafael/anaconda3/envs/hhhh/lib/python3.8/site-packages (from sacremoses->transformers) (7.1.2)\n",
      "Requirement already satisfied: six in /home/rafael/anaconda3/envs/hhhh/lib/python3.8/site-packages (from sacremoses->transformers) (1.15.0)\n",
      "Requirement already satisfied: certifi>=2017.4.17 in /home/rafael/anaconda3/envs/hhhh/lib/python3.8/site-packages (from requests->transformers) (2020.6.20)\n",
      "Requirement already satisfied: idna<3,>=2.5 in /home/rafael/anaconda3/envs/hhhh/lib/python3.8/site-packages (from requests->transformers) (2.10)\n",
      "Requirement already satisfied: urllib3!=1.25.0,!=1.25.1,<1.26,>=1.21.1 in /home/rafael/anaconda3/envs/hhhh/lib/python3.8/site-packages (from requests->transformers) (1.25.11)\n",
      "Requirement already satisfied: chardet<4,>=3.0.2 in /home/rafael/anaconda3/envs/hhhh/lib/python3.8/site-packages (from requests->transformers) (3.0.4)\n",
      "Requirement already satisfied: typing-extensions>=3.7.4.3 in /home/rafael/anaconda3/envs/hhhh/lib/python3.8/site-packages (from huggingface-hub<1.0,>=0.1.0->transformers) (3.7.4.3)\n",
      "Requirement already satisfied: pyparsing>=2.0.2 in /home/rafael/anaconda3/envs/hhhh/lib/python3.8/site-packages (from packaging>=20.0->transformers) (2.4.7)\n",
      "Installing collected packages: sacremoses, huggingface-hub, tokenizers, transformers\n",
      "\u001b[31mERROR: After October 2020 you may experience errors when installing or updating packages. This is because pip will change the way that it resolves dependency conflicts.\n",
      "\n",
      "We recommend you use --use-feature=2020-resolver to test your packages with the new resolver before it becomes the default.\n",
      "\n",
      "huggingface-hub 0.4.0 requires packaging>=20.9, but you'll have packaging 20.4 which is incompatible.\u001b[0m\n",
      "Successfully installed huggingface-hub-0.4.0 sacremoses-0.0.47 tokenizers-0.11.4 transformers-4.16.1\n",
      "Requirement already satisfied: torchvision in /home/rafael/anaconda3/envs/hhhh/lib/python3.8/site-packages (0.9.1+cu111)\n",
      "Requirement already satisfied: torch==1.8.1 in /home/rafael/anaconda3/envs/hhhh/lib/python3.8/site-packages (from torchvision) (1.8.1+cu111)\n",
      "Requirement already satisfied: pillow>=4.1.1 in /home/rafael/anaconda3/envs/hhhh/lib/python3.8/site-packages (from torchvision) (8.0.1)\n",
      "Requirement already satisfied: numpy in /home/rafael/anaconda3/envs/hhhh/lib/python3.8/site-packages (from torchvision) (1.18.5)\n",
      "Requirement already satisfied: typing-extensions in /home/rafael/anaconda3/envs/hhhh/lib/python3.8/site-packages (from torch==1.8.1->torchvision) (3.7.4.3)\n"
     ]
    }
   ],
   "source": [
    "!pip3 install tensorflow==2.6\n",
    "!pip3 install tensorflow-text==2.3\n",
    "!pip3 install -q tf-models-official\n",
    "!pip3 install \"tensorflow>=1.15,<2.0\"\n",
    "!pip3 install --upgrade tensorflow-hub\n",
    "!pip3 install torch==1.8.1+cu111 torchvision==0.9.1+cu111 torchaudio===0.8.1 -f https://download.pytorch.org/whl/torch_stable.html\n",
    "!pip3 install transformers\n",
    "!pip3 install torchvision"
   ]
  },
  {
   "cell_type": "code",
   "execution_count": 2,
   "metadata": {},
   "outputs": [],
   "source": [
    "import tensorflow as tf\n",
    "import tensorflow_hub as hub\n",
    "import pandas as pd\n",
    "import re\n",
    "from transformers import BertTokenizer\n",
    "from sklearn import preprocessing\n",
    "from sklearn.model_selection import train_test_split\n",
    "from sklearn import preprocessing\n",
    "import numpy as np\n",
    "import matplotlib.pyplot as plt\n",
    "from transformers import BertTokenizer\n",
    "import torch\n",
    "import tensorflow_text as text\n",
    "%matplotlib inline"
   ]
  },
  {
   "cell_type": "markdown",
   "metadata": {},
   "source": [
    "### 2. LOADING DATA"
   ]
  },
  {
   "cell_type": "code",
   "execution_count": 15,
   "metadata": {},
   "outputs": [
    {
     "name": "stdout",
     "output_type": "stream",
     "text": [
      "      label                                               text\n",
      "0   neutral  Technopolis plans to develop in stages an area...\n",
      "1  negative  The international electronic industry company ...\n",
      "2  positive  With the new production plant the company woul...\n",
      "3  positive  According to the company 's updated strategy f...\n",
      "4  positive  FINANCING OF ASPOCOMP 'S GROWTH Aspocomp is ag...\n",
      "neutral     2878\n",
      "positive    1363\n",
      "negative     604\n",
      "Name: label, dtype: int64\n"
     ]
    },
    {
     "data": {
      "text/plain": [
       "1    2878\n",
       "2    1363\n",
       "0     604\n",
       "Name: label, dtype: int64"
      ]
     },
     "execution_count": 15,
     "metadata": {},
     "output_type": "execute_result"
    }
   ],
   "source": [
    "dataset = pd.read_csv(\"data/all-data.csv\", names=[\"label\", \"text\"], header=0, encoding='latin-1')\n",
    "print(dataset.head())\n",
    "print(dataset['label'].value_counts())\n",
    "label_encoder = preprocessing.LabelEncoder()\n",
    "dataset['label'] = label_encoder.fit_transform(dataset['label'])\n",
    "\n",
    "dataset['label'].value_counts()"
   ]
  },
  {
   "cell_type": "code",
   "execution_count": 4,
   "metadata": {},
   "outputs": [],
   "source": [
    "X = dataset['text']\n",
    "label_encoder = preprocessing.LabelEncoder()\n",
    "y = label_encoder.fit_transform(dataset['label'])\n",
    "X_train, X_test, y_train, y_test = train_test_split(X, y, test_size=0.2, random_state=2022)"
   ]
  },
  {
   "cell_type": "markdown",
   "metadata": {},
   "source": [
    "### 3. BERT"
   ]
  },
  {
   "cell_type": "markdown",
   "metadata": {},
   "source": [
    "#### BERT CLASSIFIER"
   ]
  },
  {
   "cell_type": "code",
   "execution_count": 5,
   "metadata": {},
   "outputs": [],
   "source": [
    "bert_model = hub.KerasLayer('https://tfhub.dev/tensorflow/bert_en_uncased_L-12_H-768_A-12/3')"
   ]
  },
  {
   "cell_type": "code",
   "execution_count": 6,
   "metadata": {},
   "outputs": [],
   "source": [
    "def build_classifier_model():\n",
    "  text_input = tf.keras.layers.Input(shape=(), dtype=tf.string, name='text')\n",
    "  preprocessing_layer = hub.KerasLayer('https://tfhub.dev/tensorflow/bert_en_uncased_preprocess/3', name='preprocessing')\n",
    "  encoder_inputs = preprocessing_layer(text_input)\n",
    "  encoder = hub.KerasLayer('https://tfhub.dev/tensorflow/bert_en_uncased_L-12_H-768_A-12/3', trainable=True, name='BERT_encoder')\n",
    "  outputs = encoder(encoder_inputs)\n",
    "  net = outputs['pooled_output']\n",
    "  net = tf.keras.layers.Dropout(0.1)(net)\n",
    "  net = tf.keras.layers.Dense(1, activation='softmax', name='classifier')(net) # Used for Multi-classification in the Logistics Regression model\n",
    "  return tf.keras.Model(text_input, net)"
   ]
  },
  {
   "cell_type": "code",
   "execution_count": 7,
   "metadata": {},
   "outputs": [],
   "source": [
    "bert_classifier_model = build_classifier_model()"
   ]
  },
  {
   "cell_type": "code",
   "execution_count": 8,
   "metadata": {},
   "outputs": [
    {
     "name": "stdout",
     "output_type": "stream",
     "text": [
      "Requirement already satisfied: pydot in /home/rafael/anaconda3/envs/imageUnderstandingEnv/lib/python3.8/site-packages (1.4.2)\n",
      "Requirement already satisfied: pyparsing>=2.1.4 in /home/rafael/anaconda3/envs/imageUnderstandingEnv/lib/python3.8/site-packages (from pydot) (2.4.7)\n"
     ]
    },
    {
     "data": {
      "image/png": "[encoded data removed]",
      "text/plain": [
       "<IPython.core.display.Image object>"
      ]
     },
     "execution_count": 8,
     "metadata": {},
     "output_type": "execute_result"
    }
   ],
   "source": [
    "!pip3 install pydot\n",
    "tf.keras.utils.plot_model(bert_classifier_model)"
   ]
  },
  {
   "cell_type": "code",
   "execution_count": 9,
   "metadata": {},
   "outputs": [],
   "source": [
    "loss = tf.keras.losses.CategoricalCrossentropy()\n",
    "metrics = tf.metrics.Accuracy()"
   ]
  },
  {
   "cell_type": "markdown",
   "metadata": {},
   "source": [
    "#### BERT OPTIMIZER"
   ]
  },
  {
   "cell_type": "code",
   "execution_count": 10,
   "metadata": {},
   "outputs": [],
   "source": [
    "bert_classifier_model.compile(optimizer='adam',\n",
    "                         loss=loss,\n",
    "                         metrics=metrics)"
   ]
  },
  {
   "cell_type": "code",
   "execution_count": 11,
   "metadata": {},
   "outputs": [
    {
     "name": "stderr",
     "output_type": "stream",
     "text": [
      "/home/rafael/anaconda3/envs/imageUnderstandingEnv/lib/python3.8/site-packages/sklearn/utils/validation.py:67: FutureWarning: Pass classes=[0 1 2], y=0       1\n",
      "1       0\n",
      "2       2\n",
      "3       2\n",
      "4       2\n",
      "       ..\n",
      "4840    0\n",
      "4841    1\n",
      "4842    0\n",
      "4843    0\n",
      "4844    0\n",
      "Name: label, Length: 4845, dtype: int64 as keyword args. From version 0.25 passing these as positional arguments will result in an error\n",
      "  warnings.warn(\"Pass {} as keyword args. From version 0.25 \"\n"
     ]
    }
   ],
   "source": [
    "from sklearn.utils import class_weight \n",
    "class_weights = class_weight.compute_class_weight('balanced', np.unique(dataset['label']), dataset['label'])\n",
    "class_weights = dict(enumerate(class_weights))"
   ]
  },
  {
   "cell_type": "code",
   "execution_count": 35,
   "metadata": {},
   "outputs": [
    {
     "name": "stdout",
     "output_type": "stream",
     "text": [
      "Epoch 1/5\n",
      "97/97 [==============================] - 1317s 13s/step - loss: 0.0000e+00 - accuracy: 0.5942 - val_loss: 0.0000e+00 - val_accuracy: 0.5812\n",
      "Epoch 2/5\n",
      "97/97 [==============================] - 1295s 13s/step - loss: 0.0000e+00 - accuracy: 0.5942 - val_loss: 0.0000e+00 - val_accuracy: 0.5812\n",
      "Epoch 3/5\n",
      "97/97 [==============================] - 1172s 12s/step - loss: 0.0000e+00 - accuracy: 0.5942 - val_loss: 0.0000e+00 - val_accuracy: 0.5812\n",
      "Epoch 4/5\n",
      "97/97 [==============================] - 1184s 12s/step - loss: 0.0000e+00 - accuracy: 0.5942 - val_loss: 0.0000e+00 - val_accuracy: 0.5812\n",
      "Epoch 5/5\n",
      "97/97 [==============================] - 1313s 14s/step - loss: 0.0000e+00 - accuracy: 0.5942 - val_loss: 0.0000e+00 - val_accuracy: 0.5812\n"
     ]
    }
   ],
   "source": [
    "history = bert_classifier_model.fit(X_train,\n",
    "                               y_train,\n",
    "                               validation_split=0.2,\n",
    "                               class_weight=class_weights,\n",
    "                               epochs=5)"
   ]
  },
  {
   "cell_type": "code",
   "execution_count": 64,
   "metadata": {},
   "outputs": [
    {
     "name": "stdout",
     "output_type": "stream",
     "text": [
      "31/31 [==============================] - 114s 4s/step - loss: 0.0000e+00 - accuracy: 0.6037\n",
      "Loss: 0.0\n",
      "Accuracy: 0.603715181350708\n"
     ]
    }
   ],
   "source": [
    "loss, accuracy = bert_classifier_model.evaluate(X_test, y_test)\n",
    "\n",
    "print(f'Loss: {loss}')\n",
    "print(f'Accuracy: {accuracy}')"
   ]
  },
  {
   "cell_type": "code",
   "execution_count": 37,
   "metadata": {},
   "outputs": [
    {
     "name": "stdout",
     "output_type": "stream",
     "text": [
      "dict_keys(['loss', 'accuracy', 'val_loss', 'val_accuracy'])\n"
     ]
    },
    {
     "data": {
      "text/plain": [
       "<matplotlib.legend.Legend at 0x7f85ac3c4df0>"
      ]
     },
     "execution_count": 37,
     "metadata": {},
     "output_type": "execute_result"
    },
    {
     "data": {
      "image/png": "[encoded data removed]",
      "text/plain": [
       "<Figure size 720x432 with 2 Axes>"
      ]
     },
     "metadata": {
      "needs_background": "light"
     },
     "output_type": "display_data"
    }
   ],
   "source": [
    "history_dict = history.history\n",
    "print(history_dict.keys())\n",
    "\n",
    "acc = history_dict['accuracy']\n",
    "val_acc = history_dict['val_accuracy']\n",
    "loss = history_dict['loss']\n",
    "val_loss = history_dict['val_loss']\n",
    "\n",
    "epochs = range(1, len(acc) + 1)\n",
    "fig = plt.figure(figsize=(10, 6))\n",
    "fig.tight_layout()\n",
    "\n",
    "plt.subplot(2, 1, 1)\n",
    "# r is for \"solid red line\"\n",
    "plt.plot(epochs, loss, 'r', label='Training loss')\n",
    "# b is for \"solid blue line\"\n",
    "plt.plot(epochs, val_loss, 'b', label='Validation loss')\n",
    "plt.title('Training and validation loss')\n",
    "# plt.xlabel('Epochs')\n",
    "plt.ylabel('Loss')\n",
    "plt.legend()\n",
    "\n",
    "plt.subplot(2, 1, 2)\n",
    "plt.plot(epochs, acc, 'r', label='Training acc')\n",
    "plt.plot(epochs, val_acc, 'b', label='Validation acc')\n",
    "plt.title('Training and validation accuracy')\n",
    "plt.xlabel('Epochs')\n",
    "plt.ylabel('Accuracy')\n",
    "plt.legend(loc='lower right')"
   ]
  }
 ],
 "metadata": {
  "kernelspec": {
   "display_name": "Python 3",
   "language": "python",
   "name": "python3"
  },
  "language_info": {
   "codemirror_mode": {
    "name": "ipython",
    "version": 3
   },
   "file_extension": ".py",
   "mimetype": "text/x-python",
   "name": "python",
   "nbconvert_exporter": "python",
   "pygments_lexer": "ipython3",
   "version": "3.8.5"
  }
 },
 "nbformat": 4,
 "nbformat_minor": 2
}
